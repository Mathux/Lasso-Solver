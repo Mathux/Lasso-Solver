{
 "cells": [
  {
   "cell_type": "code",
   "execution_count": 15,
   "metadata": {},
   "outputs": [],
   "source": [
    "import matplotlib.pyplot as plt\n",
    "import numpy as np\n",
    "%matplotlib inline"
   ]
  },
  {
   "cell_type": "code",
   "execution_count": 16,
   "metadata": {},
   "outputs": [],
   "source": [
    "def centering_step(Q, p, A, b, t, v0, eps):\n",
    "    # definition of f0 and derivatives\n",
    "    def f0(v):\n",
    "        return v.dot(Q.dot(v)) + p.dot(v)\n",
    "    def Gf0(v):\n",
    "        return Q.dot(v) + Q.T.dot(v) + p\n",
    "    def Hf0(v):\n",
    "        return Q + Q.T\n",
    "    \n",
    "    # definition of phi and derivatives\n",
    "    def phi(v):\n",
    "        return -np.sum(np.log(b - A.dot(v))) if (b - A.dot(v) > 0).all() else np.nan\n",
    "    def Gphi(v):\n",
    "        return A.T.dot(1/(b - A.dot(v)))\n",
    "    def Hphi(v):\n",
    "        return np.einsum(\"ijk,i\", np.einsum('ij,ik->ijk', A, A), 1/((b - A.dot(v))**2))\n",
    "\n",
    "    \n",
    "    # definition of f and derivatives\n",
    "    def f(v):\n",
    "        return t*f0(v) + phi(v)\n",
    "    def Gf(v):\n",
    "        return t*Gf0(v) + Gphi(v)\n",
    "    def Hf(v):\n",
    "        return t*Hf0(v) + Hphi(v)\n",
    "    \n",
    "    # computation of a newton step\n",
    "    def newton_step(v):\n",
    "        Hfv_inv = np.linalg.inv(Hf(v))\n",
    "        Gfv = Gf(v)\n",
    "        dv = -Hfv_inv.dot(Gfv)\n",
    "        lamSquare = Gfv.dot(Hfv_inv.dot(Gfv))\n",
    "        return dv, lamSquare, Gfv\n",
    "    \n",
    "    # parameters for line search \n",
    "    alpha = 0.01\n",
    "    beta = 0.5\n",
    "\n",
    "    # backtracking line search\n",
    "    def line_search(v, dv, Gfv):\n",
    "        fv = f(v)\n",
    "        tl = 1\n",
    "        # To be sure to be in the domain\n",
    "        while(np.isnan(f(v + tl*dv))):\n",
    "            tl *= beta\n",
    "        while(f(v + tl*dv) > fv + alpha*tl*Gfv.dot(dv)):\n",
    "            tl *= beta\n",
    "        return tl\n",
    "        \n",
    "    v = v0.copy()\n",
    "    v_seq = [v0.copy()]\n",
    "    while \"The newton method didn't converge\":\n",
    "        dv, lamSquare, Gfv = newton_step(v)\n",
    "        tl = line_search(v, dv, Gfv)\n",
    "        v += tl*dv\n",
    "        v_seq.append(v.copy())\n",
    "        # Condition to quit\n",
    "        if lamSquare < 2*eps:\n",
    "            break\n",
    "    return np.array(v_seq)"
   ]
  },
  {
   "cell_type": "code",
   "execution_count": 17,
   "metadata": {},
   "outputs": [],
   "source": [
    "# Test \n",
    "n = 10\n",
    "m = 5\n",
    "\n",
    "Q = 5*np.identity(n, dtype=float)\n",
    "p = np.random.randn(n)\n",
    "v0 = np.zeros(n, dtype=float)\n",
    "A = np.arange(m*n, dtype=float).reshape((m,n))\n",
    "b = 1*np.ones(m, dtype=float)\n",
    "t = 1\n",
    "eps = 10**(-5)\n",
    "v_seq = centering_step(Q, p, A, b, t, v0, eps)"
   ]
  },
  {
   "cell_type": "code",
   "execution_count": 173,
   "metadata": {},
   "outputs": [],
   "source": [
    "def barr_method(Q, p, A, b, v0, t0, mu, eps_barr, eps_newton):\n",
    "    m, n = A.shape\n",
    "    v = v0.copy()\n",
    "    v_seq = [v0.copy()]\n",
    "    number_newton = []\n",
    "    t = t0\n",
    "    # Until it converge\n",
    "    while m >= t*eps_barr:\n",
    "        v_centering = centering_step(Q, p, A, b, t, v, eps_newton)\n",
    "        v = v_centering[-1]\n",
    "        v_seq.append(v)\n",
    "        number_newton.append(len(v_centering))\n",
    "        t *= mu\n",
    "    return np.array(v_seq), np.array(number_newton), t/mu"
   ]
  },
  {
   "cell_type": "code",
   "execution_count": 174,
   "metadata": {},
   "outputs": [],
   "source": [
    "# Test \n",
    "n = 10\n",
    "m = 5\n",
    "\n",
    "Q = 5*np.identity(n, dtype=float)\n",
    "p = np.random.randn(n)\n",
    "v0 = np.zeros(n, dtype=float)\n",
    "A = np.arange(m*n, dtype=float).reshape((m,n))\n",
    "b = 1*np.ones(m, dtype=float)\n",
    "t0 = 1\n",
    "eps = 10**(-5)\n",
    "\n",
    "mu = 30 \n",
    "\n",
    "v_seq, _, _ = barr_method(Q, p, A, b, v0, t0, mu, eps, eps)"
   ]
  },
  {
   "cell_type": "code",
   "execution_count": 187,
   "metadata": {},
   "outputs": [],
   "source": [
    "def lasso(X, y, lam, mu, eps_barr, eps_newton):\n",
    "    # Transform the problem to QP\n",
    "    n,d = X.shape\n",
    "    t0 = 1\n",
    "    v0 = np.zeros(n)\n",
    "    A = np.concatenate((X.T, -1*X.T))    \n",
    "    Q = 0.5*np.identity(n)\n",
    "    p = -y\n",
    "    b = lam*np.ones(2*d)\n",
    "    \n",
    "    # Solve it\n",
    "    v_seq, number_newton, t_final = barr_method(Q, p, A, b, v0, t0, mu, eps_barr, eps_newton)\n",
    "    \n",
    "    f = (lambda v: v.dot(Q.dot(v)) + p.dot(v))\n",
    "    fv_seq = np.array([f(v) for v in v_seq])\n",
    "    v_star, f_star = v_seq[np.argmin(fv_seq)], np.min(fv_seq)\n",
    "    \n",
    "    # Dual of QP\n",
    "    alpha_star = 1/(-t_final*(A.dot(v_star) - b))\n",
    "    \n",
    "    # Recover w_star\n",
    "    w_star = alpha_star[:d] - alpha_star[d:]\n",
    "    \n",
    "    return w_star, v_star, v_seq, fv_seq, f_star, np.concatenate([number_newton, [1]])"
   ]
  },
  {
   "cell_type": "code",
   "execution_count": 188,
   "metadata": {},
   "outputs": [],
   "source": [
    "def iteration_gap_mu(mus, X, y, lam, eps_barr, eps_newton):\n",
    "    for mu in mus:\n",
    "        w_star, v_star, v_seq, fv_seq, f_star, number_newton = lasso(X, y, lam, mu, eps_barr, eps_newton)\n",
    "        itermax = np.sum(number_newton)\n",
    "        Xaxe = np.linspace(0, itermax, itermax)\n",
    "        Yaxe = fv_seq - f_star\n",
    "        Yaxe = np.repeat(Yaxe, number_newton)\n",
    "        plt.semilogy(Xaxe, Yaxe, label=\"mu = \"+str(mu), drawstyle='steps-pre')\n",
    "        plt.legend(loc='upper right')\n",
    "    plt.title(\"Changes in mu for X of shape \" + str(X.shape))\n",
    "    plt.xlabel('Number of Newton iterations')\n",
    "    plt.ylabel('Gap between $f(v)$ and $f^*$')\n",
    "    plt.show()"
   ]
  },
  {
   "cell_type": "code",
   "execution_count": 189,
   "metadata": {},
   "outputs": [],
   "source": [
    "mus = [2, 5, 15, 50, 100, 200]\n",
    "lam = 10\n",
    "n = 50\n",
    "d = 500\n",
    "sigma = 80\n",
    "mu = 40\n",
    "sigma = 10\n",
    "mu = 50\n",
    "w_we_want_to_recover = 2*np.random.random(d) + 3\n",
    "noise = np.random.random(n)\n",
    "X = (sigma*np.random.random(n*d) + mu).reshape(n,d)\n",
    "y = X.dot(w_we_want_to_recover) + noise\n",
    "eps_barr = 10**(-5)\n",
    "eps_newton = 10**(-5)"
   ]
  },
  {
   "cell_type": "code",
   "execution_count": 190,
   "metadata": {},
   "outputs": [
    {
     "data": {
      "image/png": "[encoded data removed]",
      "text/plain": [
       "<Figure size 432x288 with 1 Axes>"
      ]
     },
     "metadata": {
      "needs_background": "light"
     },
     "output_type": "display_data"
    }
   ],
   "source": [
    "iteration_gap_mu(mus, X, y, lam, eps_barr, eps_newton)"
   ]
  },
  {
   "cell_type": "code",
   "execution_count": 216,
   "metadata": {},
   "outputs": [
    {
     "data": {
      "image/png": "[encoded data removed]",
      "text/plain": [
       "<Figure size 1440x720 with 6 Axes>"
      ]
     },
     "metadata": {
      "needs_background": "light"
     },
     "output_type": "display_data"
    },
    {
     "name": "stdout",
     "output_type": "stream",
     "text": [
      "Function we want to minimize of w_star\n",
      "[19965.51986883226, 19963.30816485075, 19969.842718808835, 19963.316824515645, 19973.509728028173, 19963.510143853102]\n"
     ]
    }
   ],
   "source": [
    "def function_lasso(X, y, lam, w):\n",
    "    return np.linalg.norm(X.dot(w)-y, ord=2) + lam*np.linalg.norm(w, ord=1)\n",
    "\n",
    "def sparsity_w_mu(mus, X, y, lam, eps_barr, eps_newton):\n",
    "    f, axes = plt.subplots(2, 3, figsize=(20,10))\n",
    "    w_stars = []\n",
    "    for i, mu in enumerate(mus):\n",
    "        axe = axes[i//3][i%3]\n",
    "        w_star, v_star, v_seq, fv_seq, f_star, number_newton = lasso(X, y, lam, mu, eps_barr, eps_newton)\n",
    "        #print(np.linalg.norm(v_star-(X.dot(w_star)-y), ord=2))           \n",
    "        w_stars.append(w_star)\n",
    "        \n",
    "        boolnonzero = np.logical_not(np.isclose(w_star, np.zeros(X.shape[1]), atol=1e-05, rtol=0)).astype(int)\n",
    "        number_of_nonzero = boolnonzero.sum()\n",
    "        \n",
    "        axe.hist(boolnonzero)\n",
    "        axe.set_title(\"mu={}. There are {} non nul index\".format(mu, number_of_nonzero))\n",
    "    plt.suptitle(\"Histogram of w\")\n",
    "    plt.show()\n",
    "    \n",
    "    res = [function_lasso(X, y, lam, w_star) for w_star in w_stars]\n",
    "    print(\"Function we want to minimize of w_star\")\n",
    "    print(res)\n",
    "    \n",
    "sparsity_w_mu(mus, X, y, lam, eps_barr, eps_newton)"
   ]
  },
  {
   "cell_type": "code",
   "execution_count": 212,
   "metadata": {},
   "outputs": [
    {
     "name": "stdout",
     "output_type": "stream",
     "text": [
      "20229.737403365856\n"
     ]
    }
   ],
   "source": [
    "print(function_lasso(X, y, lam, w_we_want_to_recover))"
   ]
  },
  {
   "cell_type": "markdown",
   "metadata": {},
   "source": [
    "We can notice than we are doing better than our w from the beginning."
   ]
  }
 ],
 "metadata": {
  "kernelspec": {
   "display_name": "Python 3",
   "language": "python",
   "name": "python3"
  },
  "language_info": {
   "codemirror_mode": {
    "name": "ipython",
    "version": 3
   },
   "file_extension": ".py",
   "mimetype": "text/x-python",
   "name": "python",
   "nbconvert_exporter": "python",
   "pygments_lexer": "ipython3",
   "version": "3.7.3"
  }
 },
 "nbformat": 4,
 "nbformat_minor": 2
}
